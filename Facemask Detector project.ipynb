{
  "cells": [
    {
      "cell_type": "code",
      "execution_count": null,
      "metadata": {
        "colab": {
          "base_uri": "https://localhost:8080/"
        },
        "id": "NgOCMKTCQIBC",
        "outputId": "efce47fb-fa72-4f34-c7ff-3752d39ed651"
      },
      "outputs": [
        {
          "name": "stdout",
          "output_type": "stream",
          "text": [
            "Mounted at /content/drive\n"
          ]
        }
      ],
      "source": [
        "\n",
        "# mounting google drive with the google colab\n",
        "from google.colab import drive\n",
        "drive.mount('/content/drive')"
      ]
    },
    {
      "cell_type": "code",
      "execution_count": null,
      "metadata": {
        "colab": {
          "base_uri": "https://localhost:8080/"
        },
        "id": "ITmdBsIoZmk1",
        "outputId": "61d42895-27f8-4193-ef00-4605124149d9"
      },
      "outputs": [
        {
          "name": "stdout",
          "output_type": "stream",
          "text": [
            "{'with mask': 0, 'without mask': 1}\n",
            "['with mask', 'without mask']\n",
            "[0, 1]\n"
          ]
        }
      ],
      "source": [
        "# Loading Dataset\n",
        "import cv2\n",
        "import os\n",
        "\n",
        "data_path='dataset'\n",
        "Data_Dir=os.listdir('/content/drive/MyDrive/dataset')\n",
        "labels=[i for i in range(len(Data_Dir))]\n",
        "\n",
        "label_dict=dict(zip(Data_Dir,labels)) #empty dictionary\n",
        "\n",
        "print(label_dict)\n",
        "print(Data_Dir)\n",
        "print(labels)"
      ]
    },
    {
      "cell_type": "code",
      "execution_count": null,
      "metadata": {
        "colab": {
          "base_uri": "https://localhost:8080/"
        },
        "id": "mJxq3yjxjJDT",
        "outputId": "661b20a0-6065-44be-f27d-29b19a7a592d"
      },
      "outputs": [
        {
          "data": {
            "text/plain": [
              "['',\n",
              " \"\\nfrom google.colab import drive\\ndrive.mount('/content/drive')\",\n",
              " \"import cv2\\nimport os\\n\\ndata_path='dataset'\\nData_Dir=os.listdir('/content/drive/MyDrive/dataset')\\nlabels=[i for i in range(len(Data_Dir))]\\n\\nlabel_dict=dict(zip(Data_Dir,labels)) #empty dictionary\\n\\nprint(label_dict)\\nprint(Data_Dir)\\nprint(labels)\",\n",
              " \"import cv2\\nimport os\\n\\ndata_path='dataset'\\nData_Dir=os.listdir('/content/drive/MyDrive/dataset')\\nlabels=[i for i in range(len(Data_Dir))]\\n\\nlabel_dict=dict(zip(Data_Dir,labels)) #empty dictionary\\n\\nprint(label_dict)\\nprint(Data_Dir)\\nprint(labels)\",\n",
              " \"import cv2\\nimport os\\n\\ndata_path='dataset'\\nData_Dir=os.listdir('/content/drive/MyDrive/dataset')\\nlabels=[i for i in range(len(Data_Dir))]\\n\\nlabel_dict=dict(zip(Data_Dir,labels)) #empty dictionary\\n\\nprint(label_dict)\\nprint(Data_Dir)\\nprint(labels)\",\n",
              " \"import cv2\\nimg_size=100\\ndata=[]\\ntarget=[]\\n\\n\\nfor category in Data_Dir:\\n    folder_path=os.path.join('/content/drive/MyDrive/dataset',category)\\n    img_names=os.listdir(folder_path)\\n        \\n    for img_name in img_names:\\n        img_path=os.path.join(folder_path,img_name)\\n        img=cv2.imread(img_path)\\n\\n        try:\\n            gray=cv2.cvtColor(img,cv2.COLOR_BGR2GRAY)           \\n            #Coverting the image into gray scale\\n            resized=cv2.resize(gray,(img_size,img_size))\\n            #resizing the gray scale into 50x50, since we need a fixed common size for all the images in the dataset\\n            data.append(resized)\\n            target.append(label_dict[category])\\n            #appending the image and the label(categorized) into the list (dataset)\\n\\n        except Exception as e:\\n            print('Exception:',e)\\n            #if any exception rasied, the exception will be printed here. And pass to the next image\\nIn\"]"
            ]
          },
          "execution_count": 5,
          "metadata": {},
          "output_type": "execute_result"
        }
      ],
      "source": [
        "#Data preprocessing\n",
        "import cv2\n",
        "img_size=100\n",
        "data=[]\n",
        "target=[]\n",
        "\n",
        "\n",
        "for category in Data_Dir:\n",
        "    folder_path=os.path.join('/content/drive/MyDrive/dataset',category)\n",
        "    img_names=os.listdir(folder_path)\n",
        "        \n",
        "    for img_name in img_names:\n",
        "        img_path=os.path.join(folder_path,img_name)\n",
        "        img=cv2.imread(img_path)\n",
        "\n",
        "        try:\n",
        "            gray=cv2.cvtColor(img,cv2.COLOR_BGR2GRAY)           \n",
        "            #Coverting the image into gray scale\n",
        "            resized=cv2.resize(gray,(img_size,img_size))\n",
        "            #resizing the gray scale into 50x50, since we need a fixed common size for all the images in the dataset\n",
        "            data.append(resized)\n",
        "            target.append(label_dict[category])\n",
        "            #appending the image and the label(categorized) into the list (dataset)\n",
        "\n",
        "        except Exception as e:\n",
        "            print('Exception:',e)\n",
        "            #if any exception rasied, the exception will be printed here. And pass to the next image\n",
        "In"
      ]
    },
    {
      "cell_type": "code",
      "execution_count": null,
      "metadata": {
        "id": "8LAX0q-XZkRu"
      },
      "outputs": [],
      "source": []
    },
    {
      "cell_type": "code",
      "execution_count": null,
      "metadata": {
        "id": "NctwycV1AnKS"
      },
      "outputs": [],
      "source": [
        "\n",
        "import numpy as np\n",
        "\n",
        "data=np.array(data)/255.0\n",
        "data=np.reshape(data,(data.shape[0],img_size,img_size,1))\n",
        "target=np.array(target)\n",
        "\n",
        "from keras.utils import np_utils\n",
        "\n",
        "new_target=np_utils.to_categorical(target)\n"
      ]
    },
    {
      "cell_type": "code",
      "execution_count": null,
      "metadata": {
        "id": "dj6XpAdgTqJ5"
      },
      "outputs": [],
      "source": [
        "np.save('data',data)\n",
        "np.save('target',new_target)"
      ]
    },
    {
      "cell_type": "code",
      "execution_count": null,
      "metadata": {
        "id": "0I_B2vc3WJK7"
      },
      "outputs": [],
      "source": [
        "import numpy as np\n",
        "\n",
        "data=np.load('data.npy')\n",
        "target=np.load('target.npy')\n",
        "\n",
        "#loading the save numpy arrays in the previous code"
      ]
    },
    {
      "cell_type": "code",
      "execution_count": null,
      "metadata": {
        "id": "m45mVjYwWp8-"
      },
      "outputs": [],
      "source": [
        "# training the model\n",
        "from keras.models import Sequential\n",
        "from keras.layers import Dense,Activation,Flatten,Dropout\n",
        "from keras.layers import Conv2D,MaxPooling2D\n",
        "from keras.callbacks import ModelCheckpoint\n",
        "\n",
        "model=Sequential()\n",
        "\n",
        "model.add(Conv2D(200,(3,3),input_shape=data.shape[1:]))\n",
        "model.add(Activation('relu'))\n",
        "model.add(MaxPooling2D(pool_size=(2,2)))\n",
        "#The first CNN layer followed by Relu and MaxPooling layers\n",
        "\n",
        "model.add(Conv2D(100,(3,3)))\n",
        "model.add(Activation('relu'))\n",
        "model.add(MaxPooling2D(pool_size=(2,2)))\n",
        "#The second convolution layer followed by Relu and MaxPooling layers\n",
        "\n",
        "model.add(Flatten())\n",
        "model.add(Dropout(0.5))\n",
        "#Flatten layer to stack the output convolutions from second convolution layer\n",
        "model.add(Dense(50,activation='relu'))\n",
        "#Dense layer of 64 neurons\n",
        "model.add(Dense(2,activation='softmax'))\n",
        "#The Final layer with two outputs for two categories\n",
        "\n",
        "model.compile(loss='categorical_crossentropy',optimizer='adam',metrics=['accuracy'])\n"
      ]
    },
    {
      "cell_type": "code",
      "execution_count": null,
      "metadata": {
        "id": "4iGGCi5OW4hG"
      },
      "outputs": [],
      "source": [
        "from sklearn.model_selection import train_test_split\n",
        "\n",
        "train_data,test_data,train_target,test_target=train_test_split(data,target,test_size=0.1)\n"
      ]
    },
    {
      "cell_type": "code",
      "execution_count": null,
      "metadata": {
        "colab": {
          "base_uri": "https://localhost:8080/"
        },
        "id": "n2zBOrHJXEK3",
        "outputId": "d2a60567-9300-41f7-91bd-c485cef2324f"
      },
      "outputs": [
        {
          "name": "stdout",
          "output_type": "stream",
          "text": [
            "Epoch 1/20\n",
            "31/31 [==============================] - 35s 137ms/step - loss: 0.6580 - accuracy: 0.6081 - val_loss: 0.5575 - val_accuracy: 0.7177\n",
            "INFO:tensorflow:Assets written to: model-001.model/assets\n",
            "Epoch 2/20\n",
            "31/31 [==============================] - 3s 90ms/step - loss: 0.4618 - accuracy: 0.7889 - val_loss: 0.3763 - val_accuracy: 0.8750\n",
            "INFO:tensorflow:Assets written to: model-002.model/assets\n",
            "Epoch 3/20\n",
            "31/31 [==============================] - 3s 90ms/step - loss: 0.2742 - accuracy: 0.8980 - val_loss: 0.2396 - val_accuracy: 0.9113\n",
            "INFO:tensorflow:Assets written to: model-003.model/assets\n",
            "Epoch 4/20\n",
            "31/31 [==============================] - 3s 89ms/step - loss: 0.1914 - accuracy: 0.9273 - val_loss: 0.2906 - val_accuracy: 0.8831\n",
            "Epoch 5/20\n",
            "31/31 [==============================] - 3s 90ms/step - loss: 0.1304 - accuracy: 0.9586 - val_loss: 0.1545 - val_accuracy: 0.9556\n",
            "INFO:tensorflow:Assets written to: model-005.model/assets\n",
            "Epoch 6/20\n",
            "31/31 [==============================] - 3s 89ms/step - loss: 0.1190 - accuracy: 0.9556 - val_loss: 0.2307 - val_accuracy: 0.9073\n",
            "Epoch 7/20\n",
            "31/31 [==============================] - 3s 89ms/step - loss: 0.1842 - accuracy: 0.9323 - val_loss: 0.1587 - val_accuracy: 0.9556\n",
            "Epoch 8/20\n",
            "31/31 [==============================] - 3s 89ms/step - loss: 0.0770 - accuracy: 0.9727 - val_loss: 0.3028 - val_accuracy: 0.8831\n",
            "Epoch 9/20\n",
            "31/31 [==============================] - 3s 90ms/step - loss: 0.0537 - accuracy: 0.9808 - val_loss: 0.1721 - val_accuracy: 0.9435\n",
            "Epoch 10/20\n",
            "31/31 [==============================] - 3s 89ms/step - loss: 0.0593 - accuracy: 0.9747 - val_loss: 0.2976 - val_accuracy: 0.9073\n",
            "Epoch 11/20\n",
            "31/31 [==============================] - 3s 89ms/step - loss: 0.0897 - accuracy: 0.9697 - val_loss: 0.1736 - val_accuracy: 0.9476\n",
            "Epoch 12/20\n",
            "31/31 [==============================] - 3s 89ms/step - loss: 0.0369 - accuracy: 0.9899 - val_loss: 0.1612 - val_accuracy: 0.9556\n",
            "Epoch 13/20\n",
            "31/31 [==============================] - 3s 89ms/step - loss: 0.0241 - accuracy: 0.9899 - val_loss: 0.2384 - val_accuracy: 0.9274\n",
            "Epoch 14/20\n",
            "31/31 [==============================] - 3s 89ms/step - loss: 0.0245 - accuracy: 0.9899 - val_loss: 0.1769 - val_accuracy: 0.9355\n",
            "Epoch 15/20\n",
            "31/31 [==============================] - 3s 90ms/step - loss: 0.0123 - accuracy: 0.9960 - val_loss: 0.2130 - val_accuracy: 0.9435\n",
            "Epoch 16/20\n",
            "31/31 [==============================] - 3s 89ms/step - loss: 0.0060 - accuracy: 1.0000 - val_loss: 0.2163 - val_accuracy: 0.9476\n",
            "Epoch 17/20\n",
            "31/31 [==============================] - 3s 90ms/step - loss: 0.0087 - accuracy: 0.9960 - val_loss: 0.1864 - val_accuracy: 0.9556\n",
            "Epoch 18/20\n",
            "31/31 [==============================] - 3s 89ms/step - loss: 0.0283 - accuracy: 0.9899 - val_loss: 0.1628 - val_accuracy: 0.9516\n",
            "Epoch 19/20\n",
            "31/31 [==============================] - 3s 90ms/step - loss: 0.0353 - accuracy: 0.9848 - val_loss: 0.3482 - val_accuracy: 0.9153\n",
            "Epoch 20/20\n",
            "31/31 [==============================] - 3s 89ms/step - loss: 0.0304 - accuracy: 0.9859 - val_loss: 0.1528 - val_accuracy: 0.9435\n",
            "INFO:tensorflow:Assets written to: model-020.model/assets\n"
          ]
        }
      ],
      "source": [
        "checkpoint = ModelCheckpoint('model-{epoch:03d}.model',monitor='val_loss',verbose=0,save_best_only=True,mode='auto')\n",
        "history=model.fit(train_data,train_target,epochs=20,callbacks=[checkpoint],validation_split=0.2)\n"
      ]
    },
    {
      "cell_type": "code",
      "execution_count": null,
      "metadata": {
        "colab": {
          "base_uri": "https://localhost:8080/",
          "height": 279
        },
        "id": "xnmzV6jggcf6",
        "outputId": "986c8235-0b79-4cdb-ee9f-8da977e31924"
      },
      "outputs": [
        {
          "data": {
            "image/png": "[encoded data removed]",
            "text/plain": [
              "<Figure size 432x288 with 1 Axes>"
            ]
          },
          "metadata": {
            "needs_background": "light"
          },
          "output_type": "display_data"
        }
      ],
      "source": [
        "from matplotlib import pyplot as plt\n",
        "\n",
        "plt.plot(history.history['loss'],'r',label='training loss')\n",
        "plt.plot(history.history['val_loss'],label='validation loss')\n",
        "plt.xlabel('# epochs')\n",
        "plt.ylabel('loss')\n",
        "plt.legend()\n",
        "plt.show()"
      ]
    },
    {
      "cell_type": "code",
      "execution_count": null,
      "metadata": {
        "colab": {
          "base_uri": "https://localhost:8080/",
          "height": 279
        },
        "id": "_qpmw5E-hohr",
        "outputId": "ee484607-34b6-4c2f-d63c-253cc3d6eb9a"
      },
      "outputs": [
        {
          "data": {
            "image/png": "[encoded data removed]",
            "text/plain": [
              "<Figure size 432x288 with 1 Axes>"
            ]
          },
          "metadata": {
            "needs_background": "light"
          },
          "output_type": "display_data"
        }
      ],
      "source": [
        "plt.plot(history.history['accuracy'],'r',label='training accuracy')\n",
        "plt.plot(history.history['val_accuracy'],label='validation accuracy')\n",
        "plt.xlabel('# epochs')\n",
        "plt.ylabel('loss')\n",
        "plt.legend()\n",
        "plt.show()"
      ]
    },
    {
      "cell_type": "code",
      "execution_count": null,
      "metadata": {
        "colab": {
          "base_uri": "https://localhost:8080/"
        },
        "id": "-5eBQyPTh6LS",
        "outputId": "f36be279-618c-46fe-aaea-ff67f4398867"
      },
      "outputs": [
        {
          "name": "stdout",
          "output_type": "stream",
          "text": [
            "5/5 [==============================] - 0s 101ms/step - loss: 0.0541 - accuracy: 0.9783\n",
            "[0.054116979241371155, 0.97826087474823]\n"
          ]
        }
      ],
      "source": [
        "print(model.evaluate(test_data,test_target))"
      ]
    },
    {
      "cell_type": "code",
      "execution_count": null,
      "metadata": {
        "id": "P-g_xUciim5i"
      },
      "outputs": [],
      "source": [
        "from keras.models import load_model\n",
        "import cv2\n",
        "import numpy as np"
      ]
    },
    {
      "cell_type": "code",
      "execution_count": 2,
      "metadata": {
        "colab": {
          "base_uri": "https://localhost:8080/",
          "height": 229
        },
        "id": "0CoPS0cdXZ2F",
        "outputId": "927154cc-f5c0-4c0a-9ff2-d2d527aecad2"
      },
      "outputs": [
        {
          "ename": "NameError",
          "evalue": "ignored",
          "output_type": "error",
          "traceback": [
            "\u001b[0;31m---------------------------------------------------------------------------\u001b[0m",
            "\u001b[0;31mNameError\u001b[0m                                 Traceback (most recent call last)",
            "\u001b[0;32m<ipython-input-2-7acf6bc8b23f>\u001b[0m in \u001b[0;36m<module>\u001b[0;34m()\u001b[0m\n\u001b[0;32m----> 1\u001b[0;31m \u001b[0mface_classifier\u001b[0m\u001b[0;34m=\u001b[0m\u001b[0mcv2\u001b[0m\u001b[0;34m.\u001b[0m\u001b[0mCascadeClassifier\u001b[0m\u001b[0;34m(\u001b[0m\u001b[0;34m'haarcascade_frontalface_default.xml'\u001b[0m\u001b[0;34m)\u001b[0m\u001b[0;34m\u001b[0m\u001b[0;34m\u001b[0m\u001b[0m\n\u001b[0m\u001b[1;32m      2\u001b[0m \u001b[0;31m# Capture Video\u001b[0m\u001b[0;34m\u001b[0m\u001b[0;34m\u001b[0m\u001b[0;34m\u001b[0m\u001b[0m\n\u001b[1;32m      3\u001b[0m \u001b[0mvid_source\u001b[0m \u001b[0;34m=\u001b[0m \u001b[0mcv2\u001b[0m\u001b[0;34m.\u001b[0m\u001b[0mVideoCapture\u001b[0m\u001b[0;34m(\u001b[0m\u001b[0;36m0\u001b[0m\u001b[0;34m)\u001b[0m\u001b[0;34m\u001b[0m\u001b[0;34m\u001b[0m\u001b[0m\n\u001b[1;32m      4\u001b[0m \u001b[0;31m# Dictionaries containina details of Wearina Mask and Color of rectanale around face. If wearina mask then color IoL\u001b[0m\u001b[0;34m\u001b[0m\u001b[0;34m\u001b[0m\u001b[0;34m\u001b[0m\u001b[0m\n\u001b[1;32m      5\u001b[0m \u001b[0;31m# green and if not wearing mask then color of rectangle around face would be red\u001b[0m\u001b[0;34m\u001b[0m\u001b[0;34m\u001b[0m\u001b[0;34m\u001b[0m\u001b[0m\n",
            "\u001b[0;31mNameError\u001b[0m: name 'cv2' is not defined"
          ]
        }
      ],
      "source": [
        "face_classifier=cv2.CascadeClassifier('haarcascade_frontalface_default.xml')\n",
        "# Capture Video\n",
        "vid_source = cv2.VideoCapture(0)\n",
        "# Dictionaries containina details of Wearina Mask and Color of rectanale around face. If wearina mask then color IoL\n",
        "# green and if not wearing mask then color of rectangle around face would be red\n",
        "text_dict={'Mask ON' ,'No Mask'}\n",
        "rect_colordict={ (0,255, 0), (0, 0, 255)}\n",
        "\n",
        "# SUBJECT =\"Subject\"\n",
        "# TEXT =\"One Visitor violated Face Mask Policy. See in the camera to recognize user.\n",
        "# A Person has been detected without a face mask in the Hotel Lobby Area 9. Please Alert the authorities.\n",
        "# Photo Captured:\n",
        "# While Loop to continuously detect camera feed\n",
        "while(True):\n",
        "     \n",
        "     ret, img = vid_source.read()\n",
        "     grayscale_img=cv2.cvtColor(img,cv2.COLOR_BGR2GRAY)\n",
        "     faces=face_classifier.detectMultiScale(grayscale_img,1.3,5)\n",
        "\n",
        "for (x,y,w,h) in faces:\n",
        " face_img=grayscale_img[y:y+w,X:X+W]\n",
        "resized_img = cv2. resize(face_img, (112,112))\n",
        "normalized_img = resized_img/255.0\n",
        "reshaped_img=np.reshape(normalized_img(1, 142, 112, 1))\n",
        "result=model.predict(reshaped_img)\n",
        "label=np.argmax(result, axis=1)[0]\n",
        "cv2. rectangle (img, (x,y), (X+w,Y+h), ret_color[label],2)\n",
        "cv2. rectangle (img, (x,y-40) , (x+W,y), rect_color[label], -1)\n",
        "\n",
        "Cv2. putText (img, text_[label], (x, y-10) ,Cv2. FONT_HERSHEY_SIMPLEX, .8, (0,0, 0) , 2)\n",
        "# If Label = 1 then it means wearing No Mask and © means wearing Mask\n",
        "if (label == 1) :\n",
        "   # Throw a Warning Message to tell user to wear a mask if not wearing one. This will stay\n",
        "   #open and No Access will be given He/She wears the mask\n",
        "   messagebox.showwarning(\"Warning\",\"Access Denied. Please wear a Face Mask\")\n",
        "   # Send an email to the administrator if access denied/user not wearing face mask\n",
        "   message= 'Subject: (]In\\n{]' .format (SUBJECT, TEXT)\n",
        "   mail = smtplib.SMTP('smtp.gmail.com', 587)\n",
        "   mail.ehlo()\n",
        "   mail.starttls()\n",
        "   mail.login('rakesh21@gmail.com')\n",
        "   mail.sendmail('Developer.rakesh21@gmail.com','Developer.rakesh21@gmail.com',message)\n",
        "   mail.close\n",
        "else :\n",
        "     pass\n",
        "     break\n",
        "cv2.imshow('LIVE Video Feed',img)\n",
        "key=cv2.waitKey(1)\n",
        "if(key==27):\n",
        "   break\n",
        "cv2.destroyAllWindow()\n",
        "source.release()\n"
      ]
    }
  ],
  "metadata": {
    "accelerator": "GPU",
    "colab": {
      "collapsed_sections": [],
      "name": "miniproject (1).ipynb",
      "provenance": []
    },
    "interpreter": {
      "hash": "8860c5a2a70cad65c4a4f551bdb0e44edb7c75fe3e6ee64cbfce63c1c9f89b27"
    },
    "kernelspec": {
      "display_name": "Python 3.9.7 64-bit (windows store)",
      "name": "python3"
    },
    "language_info": {
      "name": "python",
      "version": "3.9.7"
    }
  },
  "nbformat": 4,
  "nbformat_minor": 0
}
